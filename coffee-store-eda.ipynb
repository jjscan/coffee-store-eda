{
 "cells": [
  {
   "cell_type": "markdown",
   "metadata": {},
   "source": [
    "# 소상공인시장진흥공단 상가업소정보로 스타벅스, 이디야 위치 분석하기\n",
    "* https://www.data.go.kr/dataset/15012005/fileData.do\n",
    "* [[비즈&빅데이터]스타벅스 '쏠림' vs 이디야 '분산'](http://news.bizwatch.co.kr/article/consumer/2018/01/19/0015)"
   ]
  },
  {
   "cell_type": "code",
   "execution_count": 1,
   "metadata": {},
   "outputs": [],
   "source": [
    "# warning 메시지 제거, warning 메시지는 라이브러리 업데이트나 사용법에 대한 안내 등이 있습니다.\n",
    "# 코딩을 처음 시작할 때는  warning 메시지가 나오면 당황하실 수도 있어서 제거를 하고 보도록 합니다.\n",
    "# warning 메시지는 제거하고 보셔도 되지만 Error 메시지를 꼭 고쳐주셔야 합니다.\n",
    "import warnings\n",
    "warnings.filterwarnings('ignore')"
   ]
  },
  {
   "cell_type": "markdown",
   "metadata": {},
   "source": [
    "## 필요한 라이브러리 불러오기"
   ]
  },
  {
   "cell_type": "code",
   "execution_count": 2,
   "metadata": {},
   "outputs": [],
   "source": [
    "import pandas as pd\n",
    "import numpy as np\n",
    "import seaborn as sns\n",
    "# 지도 시각화를 위해\n",
    "import folium\n",
    "\n",
    "# 노트북 안에서 그래프를 표시하기 위해\n",
    "%matplotlib inline"
   ]
  },
  {
   "cell_type": "code",
   "execution_count": 3,
   "metadata": {},
   "outputs": [],
   "source": [
    "import matplotlib.pyplot as plt\n",
    "from IPython.display import set_matplotlib_formats\n",
    "# Window 의 한글 폰트 설정\n",
    "# plt.rc('font',family='Malgun Gothic')\n",
    "# Mac 의 한글 폰트 설정\n",
    "plt.rc('font', family='AppleGothic') \n",
    "plt.rc('axes', unicode_minus=False)\n",
    "\n",
    "set_matplotlib_formats('retina')\n",
    "\n",
    "# 그래프가 노트북 안에 보이게 하기 위해\n",
    "%matplotlib inline"
   ]
  },
  {
   "cell_type": "markdown",
   "metadata": {},
   "source": [
    "## Colab 에서 실행을 위한 코드\n",
    "\n",
    "* 아래의 코드는 google colaboratory 에서 실행을 위한 코드로 로컬 아나콘다에서는 주석처리합니다.\n",
    "* google colaboratory 에서는 주석을 풀고 폰트 설정과 csv 파일을 불러옵니다."
   ]
  },
  {
   "cell_type": "code",
   "execution_count": 4,
   "metadata": {},
   "outputs": [],
   "source": [
    "# # 나눔고딕 설치\n",
    "# !apt -qq -y install fonts-nanum > /dev/null\n",
    "\n",
    "import matplotlib.font_manager as fm\n",
    "\n",
    "fontpath = '/usr/share/fonts/truetype/nanum/NanumBarunGothic.ttf'\n",
    "font = fm.FontProperties(fname=fontpath, size=9)\n",
    "fm._rebuild()\n",
    "\n",
    "# # 그래프에 retina display 적용\n",
    "%config InlineBackend.figure_format = 'retina'\n",
    "\n",
    "# # Colab 의 한글 폰트 설정\n",
    "# plt.rc('font', family='NanumBarunGothic') "
   ]
  },
  {
   "cell_type": "code",
   "execution_count": null,
   "metadata": {},
   "outputs": [],
   "source": [
    "# # 구글 드라이브에서 csv 파일을 읽어오기 위해 gauth 인증\n",
    "# !pip install -U -q PyDrive\n",
    "# from pydrive.auth import GoogleAuth\n",
    "# from pydrive.drive import GoogleDrive\n",
    "# from google.colab import auth\n",
    "# from oauth2client.client import GoogleCredentials\n",
    "\n",
    "# # PyDrive client 인증\n",
    "# auth.authenticate_user()\n",
    "# gauth = GoogleAuth()\n",
    "# gauth.credentials = GoogleCredentials.get_application_default()\n",
    "# drive = GoogleDrive(gauth)"
   ]
  },
  {
   "cell_type": "code",
   "execution_count": null,
   "metadata": {},
   "outputs": [],
   "source": [
    "# # 공유 가능한 링크로 파일 가져오기\n",
    "# url = 'https://drive.google.com/open?id=1xvJs9ZxUHoBBAUXq1IWEaRXgcop8KjrT'\n",
    "# id = url.split('=')[1]\n",
    "# print(id)\n",
    "# downloaded = drive.CreateFile({'id':id}) \n",
    "# # data 폴더에 파일을 관리하며, 폴더가 없다면 만들어서 파일을 관리하도록 한다.\n",
    "# %mkdir data\n",
    "# downloaded.GetContentFile('data/store_201906_01.csv')  "
   ]
  },
  {
   "cell_type": "markdown",
   "metadata": {},
   "source": [
    "## 데이터 불러오기\n",
    "* 데이터 다운로드 위치 : https://www.data.go.kr/dataset/15012005/fileData.do\n",
    "* 공공데이터 포털에서 소상공인시장진흥공단 상가업소정보를 다운로드 받아 사용했습니다.\n",
    "* 구글드라이브에서 받기 : https://drive.google.com/open?id=1xvJs9ZxUHoBBAUXq1IWEaRXgcop8KjrT"
   ]
  },
  {
   "cell_type": "code",
   "execution_count": null,
   "metadata": {},
   "outputs": [],
   "source": [
    "# 데이터를 불러와 df_store 라는 변수에 담아주세요.\n",
    "# df_store"
   ]
  },
  {
   "cell_type": "markdown",
   "metadata": {},
   "source": [
    "## 데이터 크기 보기"
   ]
  },
  {
   "cell_type": "code",
   "execution_count": null,
   "metadata": {},
   "outputs": [],
   "source": [
    "# df_store.shape"
   ]
  },
  {
   "cell_type": "markdown",
   "metadata": {},
   "source": [
    "## info 보기"
   ]
  },
  {
   "cell_type": "code",
   "execution_count": null,
   "metadata": {
    "scrolled": true
   },
   "outputs": [],
   "source": []
  },
  {
   "cell_type": "markdown",
   "metadata": {},
   "source": [
    "## 결측치 보기"
   ]
  },
  {
   "cell_type": "code",
   "execution_count": null,
   "metadata": {},
   "outputs": [],
   "source": []
  },
  {
   "cell_type": "markdown",
   "metadata": {},
   "source": [
    "## 사용하지 않는 컬럼 제거하기"
   ]
  },
  {
   "cell_type": "code",
   "execution_count": null,
   "metadata": {},
   "outputs": [],
   "source": [
    "# \n",
    "drop_columns = [\"상권업종중분류코드\", \"상권업종소분류코드\", \n",
    "                \"건물관리번호\", \"표준산업분류코드\", \"표준산업분류명\", \n",
    "                \"지번부번지\", \"층정보\", \"건물명\", \"호정보\", \n",
    "                \"지점명\", \"건물부번지\", \"동정보\"]"
   ]
  },
  {
   "cell_type": "code",
   "execution_count": null,
   "metadata": {},
   "outputs": [],
   "source": []
  },
  {
   "cell_type": "markdown",
   "metadata": {},
   "source": [
    "## 일부 컬럼만 보기"
   ]
  },
  {
   "cell_type": "code",
   "execution_count": null,
   "metadata": {},
   "outputs": [],
   "source": [
    "# 상권업종대분류명 컬럼만 보기"
   ]
  },
  {
   "cell_type": "code",
   "execution_count": null,
   "metadata": {},
   "outputs": [],
   "source": [
    "# 상권업종소분류명 컬럼만 보기"
   ]
  },
  {
   "cell_type": "code",
   "execution_count": null,
   "metadata": {},
   "outputs": [],
   "source": [
    "# 상권업종대분류명, 상권업종소분류명 컬럼만 보기"
   ]
  },
  {
   "cell_type": "code",
   "execution_count": null,
   "metadata": {},
   "outputs": [],
   "source": [
    "# 제거하는 방법도 있지만 사용할 컬럼만 남겨두는 방법도 있습니다.\n",
    "df_columns = ['상가업소번호', '상호명', '지점명', '상권업종대분류명', \n",
    "       '상권업종중분류명',  '상권업종소분류명', '표준산업분류명', \n",
    "       '시도명', '시군구명', '행정동명', '법정동명', \n",
    "       '지번주소', '도로명코드', '도로명주소', \n",
    "       '구우편번호', '신우편번호', '경도', '위도']\n",
    "# 위에 있는 컬럼만 따로 불러옵니다."
   ]
  },
  {
   "cell_type": "markdown",
   "metadata": {},
   "source": [
    "## 일부 텍스트가 들어가는 데이터만 가져오기"
   ]
  },
  {
   "cell_type": "code",
   "execution_count": null,
   "metadata": {},
   "outputs": [],
   "source": [
    "# 커피라는 텍스트가 들어가는 상권업소중소분류명만 가져옵니다.\n",
    "# Pandas Series의 str.contains 기능을 사용해 가져올 수 있습니다.\n",
    "# 가져온 데이터를 coffee 라는 데이터프레임에 담아봅니다."
   ]
  },
  {
   "cell_type": "code",
   "execution_count": null,
   "metadata": {},
   "outputs": [],
   "source": []
  },
  {
   "cell_type": "code",
   "execution_count": null,
   "metadata": {},
   "outputs": [],
   "source": [
    "# 상호명으로 봤을 때 커피점의 수 보기"
   ]
  },
  {
   "cell_type": "code",
   "execution_count": null,
   "metadata": {},
   "outputs": [],
   "source": []
  },
  {
   "cell_type": "markdown",
   "metadata": {},
   "source": [
    "## 특정 상호만 가져오기\n",
    "* 여기에서는 스타벅스 상호를 가져와서 실습합니다.\n",
    "* 위에서 커피를 가져왔던 내용을 활용해 봅니다."
   ]
  },
  {
   "cell_type": "code",
   "execution_count": null,
   "metadata": {},
   "outputs": [],
   "source": [
    "# 상호명을 보면 겹치는 문자가 많습니다. 스타벅스의 unique한 상호명만 가져옵니다.\n"
   ]
  },
  {
   "cell_type": "markdown",
   "metadata": {},
   "source": [
    "## 시도별 데이터 보기\n",
    "* 시도와 구군 데이터가 있습니다. 어느 시도의 데이터가 있는지 봅니다."
   ]
  },
  {
   "cell_type": "code",
   "execution_count": null,
   "metadata": {
    "scrolled": true
   },
   "outputs": [],
   "source": [
    "# 시도에 결측치가 있는지 다시 봅니다."
   ]
  },
  {
   "cell_type": "code",
   "execution_count": null,
   "metadata": {},
   "outputs": [],
   "source": [
    "# 어떤 시도가 있는지 봅니다.\n",
    "# 다른 지역을 참고하고 싶다면 같은 폴더에 있는 다른 파일을 참고해 주세요.\n",
    "# Pandas Series의 value_counts 기능을 사용합니다.\n"
   ]
  },
  {
   "cell_type": "code",
   "execution_count": null,
   "metadata": {},
   "outputs": [],
   "source": [
    "# 시군구명의 unique 값만 봅니다.\n"
   ]
  },
  {
   "cell_type": "code",
   "execution_count": null,
   "metadata": {},
   "outputs": [],
   "source": [
    "# coffee 데이터프레임에서 \"상권업종중분류명\" 을 봅니다. \n",
    "# Pandas Series의 value_counts 기능을 사용합니다.\n"
   ]
  },
  {
   "cell_type": "code",
   "execution_count": null,
   "metadata": {},
   "outputs": [],
   "source": [
    "# 경도와 위도가 있습니다. 데이터를 그려봅니다.\n",
    "# Pandas의 plot.scatter 기능을 활용합니다.\n",
    "# df_store[:1000]\n"
   ]
  },
  {
   "cell_type": "markdown",
   "metadata": {},
   "source": [
    "## 서울만 따로 보기"
   ]
  },
  {
   "cell_type": "code",
   "execution_count": null,
   "metadata": {},
   "outputs": [],
   "source": [
    "df_seoul = df_store.loc[df_store['시도명'].str.startswith('서울')].copy()\n",
    "df_seoul.shape"
   ]
  },
  {
   "cell_type": "code",
   "execution_count": null,
   "metadata": {},
   "outputs": [],
   "source": [
    "# df_seoul 에서 상권업종대분류명의 value_counts 를 봅니다.\n"
   ]
  },
  {
   "cell_type": "code",
   "execution_count": null,
   "metadata": {},
   "outputs": [],
   "source": [
    "# describe 를 활용해 요약해 봅니다.\n",
    "# np.object를 사용하면 object 데이터의 요약도 볼 수 있습니다.\n",
    "\n"
   ]
  },
  {
   "cell_type": "code",
   "execution_count": null,
   "metadata": {},
   "outputs": [],
   "source": [
    "# include=np.number 로 수치 데이터만 요약합니다.\n",
    "# 여기에서는 위도와 경도만 불러와서 봅니다.\n"
   ]
  },
  {
   "cell_type": "markdown",
   "metadata": {},
   "source": [
    "### 분류별 countplot 그리기"
   ]
  },
  {
   "cell_type": "code",
   "execution_count": null,
   "metadata": {},
   "outputs": [],
   "source": [
    "# seaborn 의 sns.countplot을 활용해서 상권업종대분류명 의 수량을 세어 막대그래프를 그려봅니다.\n",
    "\n"
   ]
  },
  {
   "cell_type": "code",
   "execution_count": null,
   "metadata": {},
   "outputs": [],
   "source": [
    "# 아래의 코드를 활용해서 음식이라는 텍스트가 들어간 데이터만 df_food 라는 데이터프레임에 저장합니다.\n",
    "# df_seoul['상권업종대분류명'].str.contains('음식')\n",
    "\n",
    "# df_food 라는 데이터프레임을 만들어 주세요."
   ]
  },
  {
   "cell_type": "code",
   "execution_count": null,
   "metadata": {
    "scrolled": true
   },
   "outputs": [],
   "source": [
    "# countplot 을 그리면 해당 카테코리에 해당되는 데이터의 수를 카운트해서 시각화 합니다.\n",
    "# 상권업종중분류명 으로 countplot을 그려주세요.\n",
    "\n"
   ]
  },
  {
   "cell_type": "code",
   "execution_count": null,
   "metadata": {},
   "outputs": [],
   "source": [
    "# x, y축을 바꿔서 그리게 되면 위에서 글씨가 겹쳐 보이는 것을 보기 좋게 만들 수 있습니다.\n",
    "# 위 그래프의 x, y축을 바꿔주세요.\n",
    "\n"
   ]
  },
  {
   "cell_type": "markdown",
   "metadata": {},
   "source": [
    "## 특정 업종만 가져오기"
   ]
  },
  {
   "cell_type": "code",
   "execution_count": null,
   "metadata": {},
   "outputs": [],
   "source": [
    "# 특정 업종만 가져오고 싶다면\n",
    "# df_food['상권업종중분류명'] == '패스트푸드' 를 활용해서 df_fast_food 라는 데이터 프레임을 만들어 봅니다.\n",
    "\n"
   ]
  },
  {
   "cell_type": "code",
   "execution_count": null,
   "metadata": {
    "scrolled": true
   },
   "outputs": [],
   "source": [
    "# 해당 데이터에서 특정 컬럼만 가져오고 싶은데 컬럼명이 생각나지 않는다면 컬럼명만 가져와 봅니다.\n"
   ]
  },
  {
   "cell_type": "code",
   "execution_count": null,
   "metadata": {},
   "outputs": [],
   "source": [
    "# df_fast_food['상호명'] 의 unique 값만 가져옵니다.\n",
    "\n"
   ]
  },
  {
   "cell_type": "markdown",
   "metadata": {},
   "source": [
    "## Folium 사용예제\n",
    "http://nbviewer.jupyter.org/github/python-visualization/folium/tree/master/examples/"
   ]
  },
  {
   "cell_type": "markdown",
   "metadata": {},
   "source": [
    "## 스타벅스, 이디야 위치 분석\n",
    "* 상호명에서 브랜드명을 추출합니다.\n",
    "* 대소문자가 섞여 있을 수도 있기 때문에 대소문자를 변환해 줍니다.\n",
    "* 오타를 방지하기 위해 스타벅스의 영문명은 STARBUCKS, 이디야는 EDIYA 입니다."
   ]
  },
  {
   "cell_type": "code",
   "execution_count": null,
   "metadata": {},
   "outputs": [],
   "source": [
    "# 상호명_소문자라는 새로운 컬럼에 df_seoul['상호명'].str.lower()로 모든 영문자를 소문자로 만들어 저장해 주세요.\n"
   ]
  },
  {
   "cell_type": "code",
   "execution_count": null,
   "metadata": {},
   "outputs": [],
   "source": [
    "# ediya 라는 상호가 들어가는 데이터만 가져와 주세요. 위에서 만든 상호명_소문자 컬럼을 사용합니다.\n",
    "# df_seoul['상호명_소문자']\n"
   ]
  },
  {
   "cell_type": "code",
   "execution_count": null,
   "metadata": {},
   "outputs": [],
   "source": [
    "# '스타벅스|starbucks'라는 상호가 들어가는 데이터만 가져와 주세요. 위에서 만든 상호명_소문자 컬럼을 사용합니다.\n",
    "# 참고로 | 연산자는 or를 의미합니다.\n",
    "\n",
    "# df_seoul['상호명_소문자']\n"
   ]
  },
  {
   "cell_type": "code",
   "execution_count": null,
   "metadata": {},
   "outputs": [],
   "source": [
    "# '이디야|ediya'라는 상호가 들어가는 데이터만 가져와 주세요. 위에서 만든 상호명_소문자 컬럼을 사용합니다.\n",
    "# 참고로 | 연산자는 or를 의미합니다.\n",
    "\n"
   ]
  },
  {
   "cell_type": "code",
   "execution_count": null,
   "metadata": {},
   "outputs": [],
   "source": [
    "# '스타벅스|starbucks|이디야|ediya 라는 상호가 들어가는 데이터만 가져와 주세요. \n",
    "# 위에서 만든 상호명_소문자 컬럼을 사용합니다.\n",
    "# 결과를 df_cafe에 저장합니다.\n",
    "\n",
    "# df_seoul['상호명_소문자']"
   ]
  },
  {
   "cell_type": "code",
   "execution_count": null,
   "metadata": {},
   "outputs": [],
   "source": [
    "# 브랜드명 이라는 컬럼을 만듭니다.\n",
    "# 스타벅스만 가져와서 저장합니다.\n",
    "# df_cafe['상호명_소문자'].str.contains('스타벅스|starbucks')를 활용합니다.\n",
    "\n"
   ]
  },
  {
   "cell_type": "code",
   "execution_count": null,
   "metadata": {},
   "outputs": [],
   "source": [
    "# ~은 not을 의미합니다. 스타벅스가 아닌 데이터는 이디야로 넣어주어도 되지만\n",
    "# 아래 코드처럼 결측치를 이디야로 채워줘도 괜찮습니다.\n",
    "# df_cafe.loc[~df_cafe['상호명_소문자'].str.contains('스타벅스|starbucks|STARBUCKS'), '브랜드명'] = '이디야'"
   ]
  },
  {
   "cell_type": "code",
   "execution_count": null,
   "metadata": {},
   "outputs": [],
   "source": [
    "# df_cafe['브랜드명'] = df_cafe['브랜드명'].fillna('이디야')"
   ]
  },
  {
   "cell_type": "code",
   "execution_count": null,
   "metadata": {},
   "outputs": [],
   "source": [
    "# 혹시라도 상호명에 결측치가 있는지 확인합니다.\n",
    "# df_cafe['브랜드명'].isnull() 을 활용해서 '상호명' 이라는 컬럼을 가져옵니다.\n"
   ]
  },
  {
   "cell_type": "code",
   "execution_count": null,
   "metadata": {},
   "outputs": [],
   "source": [
    "# 상호명과 브랜드명이 제대로 변경되었는지 확인합니다.\n",
    "# 두 가지 컬럼을 가져옵니다.\n",
    "\n"
   ]
  },
  {
   "cell_type": "code",
   "execution_count": null,
   "metadata": {},
   "outputs": [],
   "source": [
    "# 브랜드별 수량을 세어봅니다.value_counts()를 활용해 주세요.\n"
   ]
  },
  {
   "cell_type": "markdown",
   "metadata": {},
   "source": [
    "## scatterplot\n",
    "* https://pandas.pydata.org/pandas-docs/stable/user_guide/visualization.html#scatter-plot"
   ]
  },
  {
   "cell_type": "code",
   "execution_count": null,
   "metadata": {},
   "outputs": [],
   "source": [
    "# pandas의 scatterplot 을 그립니다.\n",
    "# 스타벅스만 그리도록 되어 있는데 해당 코드를 활용해 이디야도 그리도록 합니다.\n",
    "# ax = df_cafe[df_cafe[\"브랜드명\"] == \"스타벅스\"].plot.scatter(\n",
    "#     x=\"경도\", y=\"위도\", color=\"g\", label=\"스타벅스\")"
   ]
  },
  {
   "cell_type": "code",
   "execution_count": null,
   "metadata": {},
   "outputs": [],
   "source": [
    "# seaborn 을 통해 그려보세요.\n"
   ]
  },
  {
   "cell_type": "code",
   "execution_count": null,
   "metadata": {},
   "outputs": [],
   "source": [
    "geo_df = df_cafe"
   ]
  },
  {
   "cell_type": "code",
   "execution_count": null,
   "metadata": {},
   "outputs": [],
   "source": [
    "map = folium.Map(location=[geo_df['위도'].mean(), geo_df['경도'].mean()], \n",
    "                 zoom_start=12, tiles='Stamen Toner')\n",
    "\n",
    "for n in geo_df.index:\n",
    "    # 팝업에 들어갈 텍스트를 지정해 줍니다.\n",
    "    popup_name = geo_df.loc[n, '상호명'] + ' - ' + geo_df.loc[n, '도로명주소']\n",
    "    # 브랜드명에 따라 아이콘 색상을 달리해서 찍어줍니다.\n",
    "    if geo_df.loc[n, '브랜드명'] == '스타벅스' :\n",
    "        icon_color = 'green'\n",
    "    else:\n",
    "        icon_color = 'blue'    \n",
    "        \n",
    "    # folium.CircleMarker 혹은 folium.features.CircleMarker 오류가 날 경우\n",
    "    # --> folium.vector_layer.CircleMarker 를 사용합니다.\n",
    "    folium.CircleMarker(\n",
    "        location=[geo_df.loc[n,'위도'], geo_df.loc[n, '경도']],\n",
    "        radius=3,\n",
    "        popup=popup_name,\n",
    "        color= icon_color,\n",
    "        fill=True,\n",
    "        fill_color=icon_color\n",
    "    ).add_to(map)\n",
    "\n",
    "\n",
    "map"
   ]
  },
  {
   "cell_type": "markdown",
   "metadata": {},
   "source": [
    "## 구별 브랜드별 점포수"
   ]
  },
  {
   "cell_type": "code",
   "execution_count": null,
   "metadata": {},
   "outputs": [],
   "source": [
    "df_cafe_brand = pd.DataFrame(\n",
    "    df_cafe.groupby(['시군구명', '브랜드명'])['상호명'].count()\n",
    ").reset_index()\n",
    "df_cafe_brand.columns = ['구', '브랜드명', '매장수']\n",
    "df_cafe_brand"
   ]
  },
  {
   "cell_type": "markdown",
   "metadata": {},
   "source": [
    "## 막대그래프로 시각화 하기"
   ]
  },
  {
   "cell_type": "code",
   "execution_count": null,
   "metadata": {
    "scrolled": true
   },
   "outputs": [],
   "source": [
    "# sns.barplot 을 활용해 df_cafe_brand 데이터 프레임으로 그려봅니다.\n",
    "#  x='구', y='매장수', hue='브랜드명' 옵션을 사용합니다.\n",
    "\n"
   ]
  },
  {
   "cell_type": "markdown",
   "metadata": {},
   "source": [
    "### Pandas의 groupby 활용하기"
   ]
  },
  {
   "cell_type": "code",
   "execution_count": null,
   "metadata": {
    "scrolled": true
   },
   "outputs": [],
   "source": [
    "df_cafe.groupby(['시군구명'])['상호명'].count()"
   ]
  },
  {
   "cell_type": "code",
   "execution_count": null,
   "metadata": {},
   "outputs": [],
   "source": [
    "df_cafe_gu = pd.DataFrame(df_cafe.groupby(['시군구명'])['상호명'].count())\n",
    "df_cafe_gu.head()"
   ]
  },
  {
   "cell_type": "code",
   "execution_count": null,
   "metadata": {},
   "outputs": [],
   "source": [
    "# df_cafe 데이터 프레임으로 시군구명, 브랜드명, 상호명 을 활용해 pivot_table 을 그립니다.\n",
    "# 기본값이 평균이기 때문에 aggfunc=\"count\" 를 지정합니다.\n",
    "# 결과는 df_cafe_brand_gu에 저장합니다."
   ]
  },
  {
   "cell_type": "code",
   "execution_count": null,
   "metadata": {},
   "outputs": [],
   "source": [
    "# Pandas 의 plot.bar를 그려봅니다.\n"
   ]
  },
  {
   "cell_type": "markdown",
   "metadata": {},
   "source": [
    "## choropleth 그리기"
   ]
  },
  {
   "cell_type": "markdown",
   "metadata": {},
   "source": [
    "* 구별로 매장수를 표현하기 위해 GeoJSON 파일 로드\n",
    "    * 파일출처 : [southkorea/seoul-maps: Seoul administrative divisions in ESRI Shapefile, GeoJSON and TopoJSON formats.](https://github.com/southkorea/seoul-maps)"
   ]
  },
  {
   "cell_type": "code",
   "execution_count": null,
   "metadata": {
    "scrolled": true
   },
   "outputs": [],
   "source": [
    "# 공유 가능한 링크로 파일 가져오기\n",
    "url = 'https://drive.google.com/open?id=13j8-_XLdPe0pptsqu8-uyE-0Ym6V2jw5'\n",
    "id = url.split('=')[1]\n",
    "print(id)\n",
    "downloaded = drive.CreateFile({'id':id}) \n",
    "# data 폴더에 파일을 관리하며, 폴더가 없다면 만들어서 파일을 관리하도록 한다.\n",
    "downloaded.GetContentFile('seoul_municipalities_geo_simple.json')  "
   ]
  },
  {
   "cell_type": "code",
   "execution_count": null,
   "metadata": {},
   "outputs": [],
   "source": [
    "import json\n",
    "\n",
    "geo_path = 'seoul_municipalities_geo_simple.json'\n",
    "geo_json = json.load(open(geo_path, encoding='utf-8'))"
   ]
  },
  {
   "cell_type": "markdown",
   "metadata": {},
   "source": [
    "### 스타벅스 이디야 카페 매장 합계 분포"
   ]
  },
  {
   "cell_type": "code",
   "execution_count": null,
   "metadata": {},
   "outputs": [],
   "source": [
    "map = folium.Map(location=[geo_df['위도'].mean(), geo_df['경도'].mean()], \n",
    "                 zoom_start=11)\n",
    "\n",
    "map.choropleth(geo_data = geo_json,\n",
    "               data = df_cafe_gu['상호명'],\n",
    "               columns = [df_cafe_brand.index, df_cafe_gu['상호명']],\n",
    "               fill_color = 'Purples',\n",
    "               key_on = 'feature.properties.name',\n",
    "               fill_opacity=0.7,\n",
    "               line_opacity=0.2,\n",
    "               highlight=True)\n",
    "\n",
    "\n",
    "for n in geo_df.index:\n",
    "    # 팝업에 들어갈 텍스트를 지정해 줍니다.\n",
    "    popup_name = geo_df.loc[n, '상호명'] + ' - ' + geo_df.loc[n, '도로명주소']\n",
    "    # 브랜드명에 따라 아이콘 색상을 달리해서 찍어줍니다.\n",
    "    if geo_df.loc[n, '브랜드명'] == '스타벅스' :\n",
    "        icon_color = 'green'\n",
    "    else:\n",
    "        icon_color = 'blue'    \n",
    "    \n",
    "    # folium.CircleMarker 혹은 folium.features.CircleMarker 오류가 날 경우\n",
    "    # --> folium.vector_layer.CircleMarker 를 사용합니다. \n",
    "    folium.CircleMarker(\n",
    "        location=[geo_df.loc[n,'위도'], geo_df.loc[n, '경도']],\n",
    "        radius=3,\n",
    "        popup=popup_name,\n",
    "        color= icon_color,\n",
    "        fill=True,\n",
    "        fill_color=icon_color\n",
    "    ).add_to(map)\n",
    "\n",
    "map"
   ]
  },
  {
   "cell_type": "markdown",
   "metadata": {},
   "source": [
    "### 스타벅스 매장 분포"
   ]
  },
  {
   "cell_type": "code",
   "execution_count": null,
   "metadata": {},
   "outputs": [],
   "source": [
    "df_cafe_temp = df_cafe[df_cafe['브랜드명'] == '스타벅스']\n",
    "df_cafe_starbucks = pd.DataFrame(df_cafe_temp.groupby(['시군구명'])['상호명'].count())\n",
    "df_cafe_starbucks.columns = ['매장수']\n",
    "df_cafe_starbucks.head()"
   ]
  },
  {
   "cell_type": "code",
   "execution_count": null,
   "metadata": {},
   "outputs": [],
   "source": [
    "map = folium.Map(location=[geo_df['위도'].mean(), geo_df['경도'].mean()], \n",
    "                 zoom_start=11, tiles='Stamen Toner')\n",
    "\n",
    "map.choropleth(geo_data = geo_json,\n",
    "               data = df_cafe_starbucks['매장수'],\n",
    "               columns = [df_cafe_starbucks.index, df_cafe_starbucks['매장수']],\n",
    "               fill_color = 'YlGn',\n",
    "               key_on = 'feature.properties.name',\n",
    "               fill_opacity=0.7,\n",
    "               line_opacity=0.2,\n",
    "               highlight=True)\n",
    "\n",
    "\n",
    "for n in geo_df.index:\n",
    "    # 팝업에 들어갈 텍스트를 지정해 줍니다.\n",
    "    popup_name = geo_df.loc[n, '상호명'] + ' - ' + geo_df.loc[n, '도로명주소']\n",
    "    # 브랜드명에 따라 아이콘 색상을 달리해서 찍어줍니다.\n",
    "    if geo_df.loc[n, '브랜드명'] == '스타벅스' :\n",
    "        icon_color = 'green'    \n",
    "\n",
    "            \n",
    "        # folium.CircleMarker 혹은 folium.features.CircleMarker 오류가 날 경우\n",
    "        # --> folium.vector_layer.CircleMarker 를 사용합니다.\n",
    "        folium.CircleMarker(\n",
    "            location=[geo_df.loc[n,'위도'], geo_df.loc[n, '경도']],\n",
    "            radius=3,\n",
    "            popup=popup_name,\n",
    "            color= icon_color,\n",
    "            fill=True,\n",
    "            fill_color=icon_color\n",
    "        ).add_to(map)\n",
    "\n",
    "\n",
    "map"
   ]
  },
  {
   "cell_type": "markdown",
   "metadata": {},
   "source": [
    "### 이디야 매장 분포"
   ]
  },
  {
   "cell_type": "code",
   "execution_count": null,
   "metadata": {},
   "outputs": [],
   "source": [
    "df_cafe_temp = df_cafe[df_cafe['브랜드명'] == '이디야']\n",
    "df_cafe_ediya = pd.DataFrame(df_cafe_temp.groupby(['시군구명'])['상호명'].count())\n",
    "df_cafe_ediya.columns = ['매장수']\n",
    "df_cafe_ediya.head()"
   ]
  },
  {
   "cell_type": "code",
   "execution_count": null,
   "metadata": {},
   "outputs": [],
   "source": [
    "map = folium.Map(location=[geo_df['위도'].mean(), geo_df['경도'].mean()], \n",
    "                 zoom_start=11, tiles='Stamen Toner')\n",
    "\n",
    "map.choropleth(geo_data = geo_json,\n",
    "               data = df_cafe_ediya['매장수'],\n",
    "               columns = [df_cafe_ediya.index, df_cafe_ediya['매장수']],\n",
    "               fill_color = 'PuBu',\n",
    "               key_on = 'feature.properties.name',\n",
    "               fill_opacity=0.7,\n",
    "               line_opacity=0.2,\n",
    "               highlight=True)\n",
    "\n",
    "\n",
    "for n in geo_df.index:\n",
    "    # 팝업에 들어갈 텍스트를 지정해 줍니다.\n",
    "    popup_name = geo_df.loc[n, '상호명'] + ' - ' + geo_df.loc[n, '도로명주소']\n",
    "    # 브랜드명에 따라 아이콘 색상을 달리해서 찍어줍니다.\n",
    "    if geo_df.loc[n, '브랜드명'] == '이디야' :\n",
    "        icon_color = 'blue'    \n",
    "\n",
    "            \n",
    "        # folium.CircleMarker 혹은 folium.features.CircleMarker 오류가 날 경우\n",
    "        # --> folium.vector_layer.CircleMarker 를 사용합니다.\n",
    "        folium.CircleMarker(\n",
    "            location=[geo_df.loc[n,'위도'], geo_df.loc[n, '경도']],\n",
    "            radius=3,\n",
    "            popup=popup_name,\n",
    "            color= icon_color,\n",
    "            fill=True,\n",
    "            fill_color=icon_color\n",
    "        ).add_to(map)\n",
    "\n",
    "\n",
    "map"
   ]
  },
  {
   "cell_type": "markdown",
   "metadata": {},
   "source": [
    "## 매장수 크기를 반영해 CircleMaker 그리기\n",
    "### Pandas 의 reshaping data 활용하기\n",
    "\n",
    "<img src=\"https://i.imgur.com/IIhU0nF.png\">\n",
    "\n",
    "* 출처 : https://github.com/pandas-dev/pandas/blob/master/doc/cheatsheet/Pandas_Cheat_Sheet.pdf\n",
    "* reshaping 관련 문서 : https://pandas.pydata.org/pandas-docs/stable/user_guide/reshaping.html"
   ]
  },
  {
   "cell_type": "code",
   "execution_count": null,
   "metadata": {},
   "outputs": [],
   "source": [
    "df_cafe_brand.head()"
   ]
  },
  {
   "cell_type": "code",
   "execution_count": null,
   "metadata": {},
   "outputs": [],
   "source": [
    "# 스타벅스 이디야가 컬럼으로 오도록 만듭니다.\n",
    "df_cafe_brand_vs = df_cafe_brand.pivot_table(index='구',\n",
    "                                             columns='브랜드명',\n",
    "                                             values='매장수')\n",
    "df_cafe_brand_vs.columns = ['스타벅스', '이디야']\n",
    "df_cafe_brand_vs.head()"
   ]
  },
  {
   "cell_type": "code",
   "execution_count": null,
   "metadata": {},
   "outputs": [],
   "source": [
    "# 함수를 만듭니다. \n",
    "# 스타벅스와 이디야의 매장수를 비교해서 스타벅스가 더 많다면 1을 반환 아니면 0을 반환하도록 합니다.\n",
    "# def store_count(store):"
   ]
  },
  {
   "cell_type": "code",
   "execution_count": null,
   "metadata": {},
   "outputs": [],
   "source": [
    "df_cafe_brand_vs['매장수비교'] = df_cafe_brand_vs.apply(store_count, axis=1)\n",
    "df_cafe_brand_vs.head()"
   ]
  },
  {
   "cell_type": "code",
   "execution_count": null,
   "metadata": {},
   "outputs": [],
   "source": [
    "# 위와 같이 표현할 수도 있지만 아래와 같이 lambda로 간결하게 표현할 수도 있습니다.\n",
    "df_cafe_brand_vs['매장수비교'] = df_cafe_brand_vs.apply( \\\n",
    "    lambda x : 1 if x['스타벅스'] > x['이디야'] else 0, axis=1)\n",
    "df_cafe_brand_vs.head()"
   ]
  },
  {
   "cell_type": "markdown",
   "metadata": {},
   "source": [
    "## 지도표현을 위해 구별 위경도 평균 구하기"
   ]
  },
  {
   "cell_type": "code",
   "execution_count": null,
   "metadata": {},
   "outputs": [],
   "source": [
    "lng_list = []\n",
    "lat_list = []\n",
    "for gu in df_cafe_brand_vs.index:\n",
    "#     lat = 구별 평균을 구합니다.\n",
    "#     lng = 구별 평균을 구합니다.\n",
    "    lat_list.append(lat)\n",
    "    lng_list.append(lng)\n",
    "    \n",
    "# df_cafe_brand_vs['위도'] = 리스트에 저장된 값을 넣어줍니다. \n",
    "# df_cafe_brand_vs['경도'] = 리스트에 저장된 값을 넣어줍니다.\n",
    "df_cafe_brand_vs.head()"
   ]
  },
  {
   "cell_type": "code",
   "execution_count": null,
   "metadata": {},
   "outputs": [],
   "source": [
    "# CircleMarker의 radius 지정시 다음과 같은 타입오류가 나서 float type 으로 변경\n",
    "# TypeError: Object of type 'int64' is not JSON serializable\n",
    "\n",
    "df_cafe_brand_vs['스타벅스'] = df_cafe_brand_vs['스타벅스'].astype(float)\n",
    "df_cafe_brand_vs['이디야'] = df_cafe_brand_vs['이디야'].astype(float)\n",
    "df_cafe_brand_vs.info()"
   ]
  },
  {
   "cell_type": "code",
   "execution_count": null,
   "metadata": {},
   "outputs": [],
   "source": [
    "map = folium.Map(location=[geo_df['위도'].mean(), geo_df['경도'].mean()], \n",
    "                 zoom_start=11, tiles='Stamen Toner')\n",
    "\n",
    "map.choropleth(geo_data = geo_json,\n",
    "               data = df_cafe_brand_vs['매장수비교'],\n",
    "               columns = [df_cafe_brand_vs.index, \n",
    "                          df_cafe_brand_vs['매장수비교']],\n",
    "               fill_color = 'BuGn',\n",
    "               key_on = 'feature.properties.name',\n",
    "               fill_opacity=0.7,\n",
    "               line_opacity=0.2,\n",
    "               highlight=True)\n",
    "\n",
    "\n",
    "for gu in df_cafe_brand_vs.index:\n",
    "        \n",
    "    for cafe in ['스타벅스', '이디야']:\n",
    "        \n",
    "        cafe_count = df_cafe_brand_vs.loc[gu, cafe]\n",
    "        msg = f'{gu} {cafe} 매장수 : {cafe_count:.0f}'\n",
    "        \n",
    "        icon_color = 'blue'\n",
    "        if cafe == '스타벅스': \n",
    "            icon_color = 'green'\n",
    "        \n",
    "        \n",
    "        # folium.CircleMarker 혹은 folium.features.CircleMarker 오류가 날 경우\n",
    "        # --> folium.vector_layer.CircleMarker 를 사용합니다.\n",
    "        folium.CircleMarker(\n",
    "            location = [df_cafe_brand_vs.loc[gu,'위도'], \n",
    "                      df_cafe_brand_vs.loc[gu, '경도']],\n",
    "            radius = cafe_count,\n",
    "            color = icon_color,\n",
    "            popup = msg,\n",
    "            fill = True,\n",
    "            fill_color = icon_color\n",
    "        ).add_to(map)\n",
    "\n",
    "map"
   ]
  },
  {
   "cell_type": "markdown",
   "metadata": {},
   "source": [
    "#### 지도 출력 시 색상 참고\n",
    "* http://colorbrewer2.org/"
   ]
  },
  {
   "cell_type": "markdown",
   "metadata": {},
   "source": [
    "## folium 공부를 위해 더 읽어보면 좋을 것 \n",
    "* https://nbviewer.jupyter.org/github/python-visualization/folium/tree/master/examples/\n",
    "* https://python-visualization.github.io/folium/quickstart.html#Choropleth-maps\n",
    "* [PinkWink의 데이터 사이언스 관련 책 - 파이썬으로 데이터 주무르기](https://pinkwink.kr/1070)"
   ]
  },
  {
   "cell_type": "markdown",
   "metadata": {},
   "source": [
    "## 카토그램 \n",
    "* [총선⑫ 인구 비례로 본 당선 지도…‘카토그램’으로 살펴본 당선 현황 > 데이터룸 > 정치 > 뉴스 | KBSNEWS](http://news.kbs.co.kr/news/view.do?ncd=3264019)\n",
    "* [The Housing Value of Every County in the U.S. - Metrocosm](http://metrocosm.com/the-housing-value-of-every-county-in-the-u-s/)"
   ]
  },
  {
   "cell_type": "code",
   "execution_count": null,
   "metadata": {},
   "outputs": [],
   "source": []
  },
  {
   "cell_type": "code",
   "execution_count": null,
   "metadata": {},
   "outputs": [],
   "source": []
  }
 ],
 "metadata": {
  "kernelspec": {
   "display_name": "Python 3",
   "language": "python",
   "name": "python3"
  },
  "language_info": {
   "codemirror_mode": {
    "name": "ipython",
    "version": 3
   },
   "file_extension": ".py",
   "mimetype": "text/x-python",
   "name": "python",
   "nbconvert_exporter": "python",
   "pygments_lexer": "ipython3",
   "version": "3.7.1"
  },
  "varInspector": {
   "cols": {
    "lenName": 16,
    "lenType": 16,
    "lenVar": 40
   },
   "kernels_config": {
    "python": {
     "delete_cmd_postfix": "",
     "delete_cmd_prefix": "del ",
     "library": "var_list.py",
     "varRefreshCmd": "print(var_dic_list())"
    },
    "r": {
     "delete_cmd_postfix": ") ",
     "delete_cmd_prefix": "rm(",
     "library": "var_list.r",
     "varRefreshCmd": "cat(var_dic_list()) "
    }
   },
   "types_to_exclude": [
    "module",
    "function",
    "builtin_function_or_method",
    "instance",
    "_Feature"
   ],
   "window_display": false
  }
 },
 "nbformat": 4,
 "nbformat_minor": 2
}
